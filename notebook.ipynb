{
  "cells": [
    {
      "cell_type": "markdown",
      "metadata": {
        "id": "H9wADwK78DCz"
      },
      "source": [
        "# Proyek Analisis Data: Bike Sharing Dataset\n",
        "- **Nama:** Nadya Zuhria Amana\n",
        "- **Email:** m004d4kx2486@bangkit.academy\n",
        "- **ID Dicoding:** nadyazuhria"
      ]
    },
    {
      "cell_type": "markdown",
      "metadata": {
        "id": "eE0raob58DC0"
      },
      "source": [
        "## Menentukan Pertanyaan Bisnis"
      ]
    },
    {
      "cell_type": "markdown",
      "metadata": {
        "id": "GmQeQ5YF8DC0"
      },
      "source": [
        "- Bagaimana Pengaruh kondisi cuaca terhadap pola peminjaman sepeda?\n",
        "- Kira-kira berapa jumlah peminjaman sepeda berdasarkan Jam dan Hari?"
      ]
    },
    {
      "cell_type": "markdown",
      "metadata": {
        "id": "H-z4QGlO8DC1"
      },
      "source": [
        "## Import Semua Packages/Library yang Digunakan"
      ]
    },
    {
      "cell_type": "code",
      "execution_count": 1521,
      "metadata": {
        "id": "FVYwaObI8DC1"
      },
      "outputs": [],
      "source": [
        "import pandas as pd\n",
        "import matplotlib.pyplot as plt\n",
        "import seaborn as sns\n",
        "from sklearn.cluster import KMeans"
      ]
    },
    {
      "cell_type": "markdown",
      "metadata": {},
      "source": [
        "- Import Semua Packages/Library yang Digunakan diatas"
      ]
    },
    {
      "cell_type": "markdown",
      "metadata": {
        "id": "h_Sh51Xy8DC1"
      },
      "source": [
        "## Data Wrangling"
      ]
    },
    {
      "cell_type": "markdown",
      "metadata": {
        "id": "sXU2GBYu8DC1"
      },
      "source": [
        "### Gathering Data"
      ]
    },
    {
      "cell_type": "markdown",
      "metadata": {},
      "source": [
        "- Setelah kedua DataFrame hourly_data dan daily_data dibaca, tahap selanjutnya adalah menggabungkan kedua DataFrame tersebut menjadi satu DataFrame tunggal. Ini dilakukan dengan menggunakan fungsi pd.merge()."
      ]
    },
    {
      "cell_type": "code",
      "execution_count": 1522,
      "metadata": {
        "id": "zjCBk1BI8DC1"
      },
      "outputs": [],
      "source": [
        "hourly_data = pd.read_csv('data/hour.csv')\n",
        "daily_data = pd.read_csv('data/day.csv')\n"
      ]
    },
    {
      "cell_type": "markdown",
      "metadata": {},
      "source": [
        "- Data diimpor dari file CSV 'hour.csv' dan 'day.csv' menggunakan fungsi pd.read_csv(). Ini merupakan tahap pengumpulan data."
      ]
    },
    {
      "cell_type": "code",
      "execution_count": 1523,
      "metadata": {},
      "outputs": [],
      "source": [
        "df = pd.read_csv(\"data/hour.csv\", delimiter=\",\")\n",
        "df = pd.read_csv(\"data/day.csv\", delimiter=\",\")"
      ]
    },
    {
      "cell_type": "code",
      "execution_count": 1524,
      "metadata": {},
      "outputs": [],
      "source": [
        "merged_data = pd.merge(\n",
        "    left=hourly_data,\n",
        "    right=daily_data,\n",
        "    how=\"inner\",  # Jenis penggabungan, dalam hal ini menggunakan inner join\n",
        "    left_on=\"dteday\",  # Kolom yang digunakan untuk penggabungan pada all_dfframe kiri (hourly_all_df)\n",
        "    right_on=\"dteday\"  # Kolom yang digunakan untuk penggabungan pada all_dfframe kanan (daily_all_df)\n",
        ")"
      ]
    },
    {
      "cell_type": "code",
      "execution_count": 1525,
      "metadata": {},
      "outputs": [
        {
          "name": "stdout",
          "output_type": "stream",
          "text": [
            "   instant_x      dteday  season_x  yr_x  mnth_x  hr  holiday_x  weekday_x  \\\n",
            "0          1  2011-01-01         1     0       1   0          0          6   \n",
            "1          2  2011-01-01         1     0       1   1          0          6   \n",
            "2          3  2011-01-01         1     0       1   2          0          6   \n",
            "3          4  2011-01-01         1     0       1   3          0          6   \n",
            "4          5  2011-01-01         1     0       1   4          0          6   \n",
            "\n",
            "   workingday_x  weathersit_x  ...  weekday_y  workingday_y  weathersit_y  \\\n",
            "0             0             1  ...          6             0             2   \n",
            "1             0             1  ...          6             0             2   \n",
            "2             0             1  ...          6             0             2   \n",
            "3             0             1  ...          6             0             2   \n",
            "4             0             1  ...          6             0             2   \n",
            "\n",
            "     temp_y   atemp_y     hum_y  windspeed_y  casual_y  registered_y  cnt_y  \n",
            "0  0.344167  0.363625  0.805833     0.160446       331           654    985  \n",
            "1  0.344167  0.363625  0.805833     0.160446       331           654    985  \n",
            "2  0.344167  0.363625  0.805833     0.160446       331           654    985  \n",
            "3  0.344167  0.363625  0.805833     0.160446       331           654    985  \n",
            "4  0.344167  0.363625  0.805833     0.160446       331           654    985  \n",
            "\n",
            "[5 rows x 32 columns]\n"
          ]
        }
      ],
      "source": [
        "print(merged_data.head())"
      ]
    },
    {
      "cell_type": "markdown",
      "metadata": {
        "id": "FHSiqaZp8DC1"
      },
      "source": [
        "### Assessing Data"
      ]
    },
    {
      "cell_type": "markdown",
      "metadata": {},
      "source": [
        "- Setelah data diimpor, kita perlu mengevaluasi kualitas data untuk memastikan keberadaan masalah seperti missing values, duplikasi, atau format yang salah. Ini dilakukan dengan menggunakan metode seperti info(), isnull(), duplicated(), dan describe()."
      ]
    },
    {
      "cell_type": "code",
      "execution_count": 1526,
      "metadata": {
        "id": "ax-3tEjc9Cj1"
      },
      "outputs": [
        {
          "data": {
            "text/plain": [
              "instant       0\n",
              "dteday        0\n",
              "season        0\n",
              "yr            0\n",
              "mnth          0\n",
              "holiday       0\n",
              "weekday       0\n",
              "workingday    0\n",
              "weathersit    0\n",
              "temp          0\n",
              "atemp         0\n",
              "hum           0\n",
              "windspeed     0\n",
              "casual        0\n",
              "registered    0\n",
              "cnt           0\n",
              "dtype: int64"
            ]
          },
          "execution_count": 1526,
          "metadata": {},
          "output_type": "execute_result"
        }
      ],
      "source": [
        "#Mengecek missing valur pada data hour.csv dan day.csv\n",
        "# Untuk data hourly\n",
        "hourly_data.isnull().sum()\n",
        "\n",
        "# Untuk data daily\n",
        "daily_data.isnull().sum()"
      ]
    },
    {
      "cell_type": "code",
      "execution_count": 1527,
      "metadata": {},
      "outputs": [
        {
          "data": {
            "text/plain": [
              "0"
            ]
          },
          "execution_count": 1527,
          "metadata": {},
          "output_type": "execute_result"
        }
      ],
      "source": [
        "# Untuk data hourly\n",
        "hourly_data.duplicated().sum()\n",
        "\n",
        "# Untuk data daily\n",
        "daily_data.duplicated().sum()"
      ]
    },
    {
      "cell_type": "code",
      "execution_count": 1528,
      "metadata": {},
      "outputs": [
        {
          "name": "stdout",
          "output_type": "stream",
          "text": [
            "<class 'pandas.core.frame.DataFrame'>\n",
            "RangeIndex: 17379 entries, 0 to 17378\n",
            "Data columns (total 17 columns):\n",
            " #   Column      Non-Null Count  Dtype  \n",
            "---  ------      --------------  -----  \n",
            " 0   instant     17379 non-null  int64  \n",
            " 1   dteday      17379 non-null  object \n",
            " 2   season      17379 non-null  int64  \n",
            " 3   yr          17379 non-null  int64  \n",
            " 4   mnth        17379 non-null  int64  \n",
            " 5   hr          17379 non-null  int64  \n",
            " 6   holiday     17379 non-null  int64  \n",
            " 7   weekday     17379 non-null  int64  \n",
            " 8   workingday  17379 non-null  int64  \n",
            " 9   weathersit  17379 non-null  int64  \n",
            " 10  temp        17379 non-null  float64\n",
            " 11  atemp       17379 non-null  float64\n",
            " 12  hum         17379 non-null  float64\n",
            " 13  windspeed   17379 non-null  float64\n",
            " 14  casual      17379 non-null  int64  \n",
            " 15  registered  17379 non-null  int64  \n",
            " 16  cnt         17379 non-null  int64  \n",
            "dtypes: float64(4), int64(12), object(1)\n",
            "memory usage: 2.3+ MB\n"
          ]
        }
      ],
      "source": [
        "hourly_data.info()"
      ]
    },
    {
      "cell_type": "code",
      "execution_count": 1529,
      "metadata": {},
      "outputs": [
        {
          "name": "stdout",
          "output_type": "stream",
          "text": [
            "<class 'pandas.core.frame.DataFrame'>\n",
            "RangeIndex: 731 entries, 0 to 730\n",
            "Data columns (total 16 columns):\n",
            " #   Column      Non-Null Count  Dtype  \n",
            "---  ------      --------------  -----  \n",
            " 0   instant     731 non-null    int64  \n",
            " 1   dteday      731 non-null    object \n",
            " 2   season      731 non-null    int64  \n",
            " 3   yr          731 non-null    int64  \n",
            " 4   mnth        731 non-null    int64  \n",
            " 5   holiday     731 non-null    int64  \n",
            " 6   weekday     731 non-null    int64  \n",
            " 7   workingday  731 non-null    int64  \n",
            " 8   weathersit  731 non-null    int64  \n",
            " 9   temp        731 non-null    float64\n",
            " 10  atemp       731 non-null    float64\n",
            " 11  hum         731 non-null    float64\n",
            " 12  windspeed   731 non-null    float64\n",
            " 13  casual      731 non-null    int64  \n",
            " 14  registered  731 non-null    int64  \n",
            " 15  cnt         731 non-null    int64  \n",
            "dtypes: float64(4), int64(11), object(1)\n",
            "memory usage: 91.5+ KB\n"
          ]
        }
      ],
      "source": [
        "daily_data.info()"
      ]
    },
    {
      "cell_type": "code",
      "execution_count": 1530,
      "metadata": {},
      "outputs": [
        {
          "data": {
            "text/plain": [
              "instant       0\n",
              "dteday        0\n",
              "season        0\n",
              "yr            0\n",
              "mnth          0\n",
              "holiday       0\n",
              "weekday       0\n",
              "workingday    0\n",
              "weathersit    0\n",
              "temp          0\n",
              "atemp         0\n",
              "hum           0\n",
              "windspeed     0\n",
              "casual        0\n",
              "registered    0\n",
              "cnt           0\n",
              "dtype: int64"
            ]
          },
          "execution_count": 1530,
          "metadata": {},
          "output_type": "execute_result"
        }
      ],
      "source": [
        "daily_data.isna().sum()"
      ]
    },
    {
      "cell_type": "code",
      "execution_count": 1531,
      "metadata": {},
      "outputs": [
        {
          "data": {
            "text/plain": [
              "instant       0\n",
              "dteday        0\n",
              "season        0\n",
              "yr            0\n",
              "mnth          0\n",
              "hr            0\n",
              "holiday       0\n",
              "weekday       0\n",
              "workingday    0\n",
              "weathersit    0\n",
              "temp          0\n",
              "atemp         0\n",
              "hum           0\n",
              "windspeed     0\n",
              "casual        0\n",
              "registered    0\n",
              "cnt           0\n",
              "dtype: int64"
            ]
          },
          "execution_count": 1531,
          "metadata": {},
          "output_type": "execute_result"
        }
      ],
      "source": [
        "hourly_data.isna().sum()"
      ]
    },
    {
      "cell_type": "code",
      "execution_count": 1532,
      "metadata": {},
      "outputs": [
        {
          "name": "stdout",
          "output_type": "stream",
          "text": [
            "Jumlah duplikasi:  0\n"
          ]
        },
        {
          "data": {
            "text/html": [
              "<div>\n",
              "<style scoped>\n",
              "    .dataframe tbody tr th:only-of-type {\n",
              "        vertical-align: middle;\n",
              "    }\n",
              "\n",
              "    .dataframe tbody tr th {\n",
              "        vertical-align: top;\n",
              "    }\n",
              "\n",
              "    .dataframe thead th {\n",
              "        text-align: right;\n",
              "    }\n",
              "</style>\n",
              "<table border=\"1\" class=\"dataframe\">\n",
              "  <thead>\n",
              "    <tr style=\"text-align: right;\">\n",
              "      <th></th>\n",
              "      <th>instant</th>\n",
              "      <th>season</th>\n",
              "      <th>yr</th>\n",
              "      <th>mnth</th>\n",
              "      <th>holiday</th>\n",
              "      <th>weekday</th>\n",
              "      <th>workingday</th>\n",
              "      <th>weathersit</th>\n",
              "      <th>temp</th>\n",
              "      <th>atemp</th>\n",
              "      <th>hum</th>\n",
              "      <th>windspeed</th>\n",
              "      <th>casual</th>\n",
              "      <th>registered</th>\n",
              "      <th>cnt</th>\n",
              "    </tr>\n",
              "  </thead>\n",
              "  <tbody>\n",
              "    <tr>\n",
              "      <th>count</th>\n",
              "      <td>731.000000</td>\n",
              "      <td>731.000000</td>\n",
              "      <td>731.000000</td>\n",
              "      <td>731.000000</td>\n",
              "      <td>731.000000</td>\n",
              "      <td>731.000000</td>\n",
              "      <td>731.000000</td>\n",
              "      <td>731.000000</td>\n",
              "      <td>731.000000</td>\n",
              "      <td>731.000000</td>\n",
              "      <td>731.000000</td>\n",
              "      <td>731.000000</td>\n",
              "      <td>731.000000</td>\n",
              "      <td>731.000000</td>\n",
              "      <td>731.000000</td>\n",
              "    </tr>\n",
              "    <tr>\n",
              "      <th>mean</th>\n",
              "      <td>366.000000</td>\n",
              "      <td>2.496580</td>\n",
              "      <td>0.500684</td>\n",
              "      <td>6.519836</td>\n",
              "      <td>0.028728</td>\n",
              "      <td>2.997264</td>\n",
              "      <td>0.683995</td>\n",
              "      <td>1.395349</td>\n",
              "      <td>0.495385</td>\n",
              "      <td>0.474354</td>\n",
              "      <td>0.627894</td>\n",
              "      <td>0.190486</td>\n",
              "      <td>848.176471</td>\n",
              "      <td>3656.172367</td>\n",
              "      <td>4504.348837</td>\n",
              "    </tr>\n",
              "    <tr>\n",
              "      <th>std</th>\n",
              "      <td>211.165812</td>\n",
              "      <td>1.110807</td>\n",
              "      <td>0.500342</td>\n",
              "      <td>3.451913</td>\n",
              "      <td>0.167155</td>\n",
              "      <td>2.004787</td>\n",
              "      <td>0.465233</td>\n",
              "      <td>0.544894</td>\n",
              "      <td>0.183051</td>\n",
              "      <td>0.162961</td>\n",
              "      <td>0.142429</td>\n",
              "      <td>0.077498</td>\n",
              "      <td>686.622488</td>\n",
              "      <td>1560.256377</td>\n",
              "      <td>1937.211452</td>\n",
              "    </tr>\n",
              "    <tr>\n",
              "      <th>min</th>\n",
              "      <td>1.000000</td>\n",
              "      <td>1.000000</td>\n",
              "      <td>0.000000</td>\n",
              "      <td>1.000000</td>\n",
              "      <td>0.000000</td>\n",
              "      <td>0.000000</td>\n",
              "      <td>0.000000</td>\n",
              "      <td>1.000000</td>\n",
              "      <td>0.059130</td>\n",
              "      <td>0.079070</td>\n",
              "      <td>0.000000</td>\n",
              "      <td>0.022392</td>\n",
              "      <td>2.000000</td>\n",
              "      <td>20.000000</td>\n",
              "      <td>22.000000</td>\n",
              "    </tr>\n",
              "    <tr>\n",
              "      <th>25%</th>\n",
              "      <td>183.500000</td>\n",
              "      <td>2.000000</td>\n",
              "      <td>0.000000</td>\n",
              "      <td>4.000000</td>\n",
              "      <td>0.000000</td>\n",
              "      <td>1.000000</td>\n",
              "      <td>0.000000</td>\n",
              "      <td>1.000000</td>\n",
              "      <td>0.337083</td>\n",
              "      <td>0.337842</td>\n",
              "      <td>0.520000</td>\n",
              "      <td>0.134950</td>\n",
              "      <td>315.500000</td>\n",
              "      <td>2497.000000</td>\n",
              "      <td>3152.000000</td>\n",
              "    </tr>\n",
              "    <tr>\n",
              "      <th>50%</th>\n",
              "      <td>366.000000</td>\n",
              "      <td>3.000000</td>\n",
              "      <td>1.000000</td>\n",
              "      <td>7.000000</td>\n",
              "      <td>0.000000</td>\n",
              "      <td>3.000000</td>\n",
              "      <td>1.000000</td>\n",
              "      <td>1.000000</td>\n",
              "      <td>0.498333</td>\n",
              "      <td>0.486733</td>\n",
              "      <td>0.626667</td>\n",
              "      <td>0.180975</td>\n",
              "      <td>713.000000</td>\n",
              "      <td>3662.000000</td>\n",
              "      <td>4548.000000</td>\n",
              "    </tr>\n",
              "    <tr>\n",
              "      <th>75%</th>\n",
              "      <td>548.500000</td>\n",
              "      <td>3.000000</td>\n",
              "      <td>1.000000</td>\n",
              "      <td>10.000000</td>\n",
              "      <td>0.000000</td>\n",
              "      <td>5.000000</td>\n",
              "      <td>1.000000</td>\n",
              "      <td>2.000000</td>\n",
              "      <td>0.655417</td>\n",
              "      <td>0.608602</td>\n",
              "      <td>0.730209</td>\n",
              "      <td>0.233214</td>\n",
              "      <td>1096.000000</td>\n",
              "      <td>4776.500000</td>\n",
              "      <td>5956.000000</td>\n",
              "    </tr>\n",
              "    <tr>\n",
              "      <th>max</th>\n",
              "      <td>731.000000</td>\n",
              "      <td>4.000000</td>\n",
              "      <td>1.000000</td>\n",
              "      <td>12.000000</td>\n",
              "      <td>1.000000</td>\n",
              "      <td>6.000000</td>\n",
              "      <td>1.000000</td>\n",
              "      <td>3.000000</td>\n",
              "      <td>0.861667</td>\n",
              "      <td>0.840896</td>\n",
              "      <td>0.972500</td>\n",
              "      <td>0.507463</td>\n",
              "      <td>3410.000000</td>\n",
              "      <td>6946.000000</td>\n",
              "      <td>8714.000000</td>\n",
              "    </tr>\n",
              "  </tbody>\n",
              "</table>\n",
              "</div>"
            ],
            "text/plain": [
              "          instant      season          yr        mnth     holiday     weekday  \\\n",
              "count  731.000000  731.000000  731.000000  731.000000  731.000000  731.000000   \n",
              "mean   366.000000    2.496580    0.500684    6.519836    0.028728    2.997264   \n",
              "std    211.165812    1.110807    0.500342    3.451913    0.167155    2.004787   \n",
              "min      1.000000    1.000000    0.000000    1.000000    0.000000    0.000000   \n",
              "25%    183.500000    2.000000    0.000000    4.000000    0.000000    1.000000   \n",
              "50%    366.000000    3.000000    1.000000    7.000000    0.000000    3.000000   \n",
              "75%    548.500000    3.000000    1.000000   10.000000    0.000000    5.000000   \n",
              "max    731.000000    4.000000    1.000000   12.000000    1.000000    6.000000   \n",
              "\n",
              "       workingday  weathersit        temp       atemp         hum   windspeed  \\\n",
              "count  731.000000  731.000000  731.000000  731.000000  731.000000  731.000000   \n",
              "mean     0.683995    1.395349    0.495385    0.474354    0.627894    0.190486   \n",
              "std      0.465233    0.544894    0.183051    0.162961    0.142429    0.077498   \n",
              "min      0.000000    1.000000    0.059130    0.079070    0.000000    0.022392   \n",
              "25%      0.000000    1.000000    0.337083    0.337842    0.520000    0.134950   \n",
              "50%      1.000000    1.000000    0.498333    0.486733    0.626667    0.180975   \n",
              "75%      1.000000    2.000000    0.655417    0.608602    0.730209    0.233214   \n",
              "max      1.000000    3.000000    0.861667    0.840896    0.972500    0.507463   \n",
              "\n",
              "            casual   registered          cnt  \n",
              "count   731.000000   731.000000   731.000000  \n",
              "mean    848.176471  3656.172367  4504.348837  \n",
              "std     686.622488  1560.256377  1937.211452  \n",
              "min       2.000000    20.000000    22.000000  \n",
              "25%     315.500000  2497.000000  3152.000000  \n",
              "50%     713.000000  3662.000000  4548.000000  \n",
              "75%    1096.000000  4776.500000  5956.000000  \n",
              "max    3410.000000  6946.000000  8714.000000  "
            ]
          },
          "execution_count": 1532,
          "metadata": {},
          "output_type": "execute_result"
        }
      ],
      "source": [
        "print(\"Jumlah duplikasi: \",daily_data.duplicated().sum())\n",
        "daily_data.describe()"
      ]
    },
    {
      "cell_type": "code",
      "execution_count": 1533,
      "metadata": {},
      "outputs": [
        {
          "name": "stdout",
          "output_type": "stream",
          "text": [
            "Jumlah duplikasi:  0\n"
          ]
        },
        {
          "data": {
            "text/html": [
              "<div>\n",
              "<style scoped>\n",
              "    .dataframe tbody tr th:only-of-type {\n",
              "        vertical-align: middle;\n",
              "    }\n",
              "\n",
              "    .dataframe tbody tr th {\n",
              "        vertical-align: top;\n",
              "    }\n",
              "\n",
              "    .dataframe thead th {\n",
              "        text-align: right;\n",
              "    }\n",
              "</style>\n",
              "<table border=\"1\" class=\"dataframe\">\n",
              "  <thead>\n",
              "    <tr style=\"text-align: right;\">\n",
              "      <th></th>\n",
              "      <th>instant</th>\n",
              "      <th>season</th>\n",
              "      <th>yr</th>\n",
              "      <th>mnth</th>\n",
              "      <th>hr</th>\n",
              "      <th>holiday</th>\n",
              "      <th>weekday</th>\n",
              "      <th>workingday</th>\n",
              "      <th>weathersit</th>\n",
              "      <th>temp</th>\n",
              "      <th>atemp</th>\n",
              "      <th>hum</th>\n",
              "      <th>windspeed</th>\n",
              "      <th>casual</th>\n",
              "      <th>registered</th>\n",
              "      <th>cnt</th>\n",
              "    </tr>\n",
              "  </thead>\n",
              "  <tbody>\n",
              "    <tr>\n",
              "      <th>count</th>\n",
              "      <td>17379.0000</td>\n",
              "      <td>17379.000000</td>\n",
              "      <td>17379.000000</td>\n",
              "      <td>17379.000000</td>\n",
              "      <td>17379.000000</td>\n",
              "      <td>17379.000000</td>\n",
              "      <td>17379.000000</td>\n",
              "      <td>17379.000000</td>\n",
              "      <td>17379.000000</td>\n",
              "      <td>17379.000000</td>\n",
              "      <td>17379.000000</td>\n",
              "      <td>17379.000000</td>\n",
              "      <td>17379.000000</td>\n",
              "      <td>17379.000000</td>\n",
              "      <td>17379.000000</td>\n",
              "      <td>17379.000000</td>\n",
              "    </tr>\n",
              "    <tr>\n",
              "      <th>mean</th>\n",
              "      <td>8690.0000</td>\n",
              "      <td>2.501640</td>\n",
              "      <td>0.502561</td>\n",
              "      <td>6.537775</td>\n",
              "      <td>11.546752</td>\n",
              "      <td>0.028770</td>\n",
              "      <td>3.003683</td>\n",
              "      <td>0.682721</td>\n",
              "      <td>1.425283</td>\n",
              "      <td>0.496987</td>\n",
              "      <td>0.475775</td>\n",
              "      <td>0.627229</td>\n",
              "      <td>0.190098</td>\n",
              "      <td>35.676218</td>\n",
              "      <td>153.786869</td>\n",
              "      <td>189.463088</td>\n",
              "    </tr>\n",
              "    <tr>\n",
              "      <th>std</th>\n",
              "      <td>5017.0295</td>\n",
              "      <td>1.106918</td>\n",
              "      <td>0.500008</td>\n",
              "      <td>3.438776</td>\n",
              "      <td>6.914405</td>\n",
              "      <td>0.167165</td>\n",
              "      <td>2.005771</td>\n",
              "      <td>0.465431</td>\n",
              "      <td>0.639357</td>\n",
              "      <td>0.192556</td>\n",
              "      <td>0.171850</td>\n",
              "      <td>0.192930</td>\n",
              "      <td>0.122340</td>\n",
              "      <td>49.305030</td>\n",
              "      <td>151.357286</td>\n",
              "      <td>181.387599</td>\n",
              "    </tr>\n",
              "    <tr>\n",
              "      <th>min</th>\n",
              "      <td>1.0000</td>\n",
              "      <td>1.000000</td>\n",
              "      <td>0.000000</td>\n",
              "      <td>1.000000</td>\n",
              "      <td>0.000000</td>\n",
              "      <td>0.000000</td>\n",
              "      <td>0.000000</td>\n",
              "      <td>0.000000</td>\n",
              "      <td>1.000000</td>\n",
              "      <td>0.020000</td>\n",
              "      <td>0.000000</td>\n",
              "      <td>0.000000</td>\n",
              "      <td>0.000000</td>\n",
              "      <td>0.000000</td>\n",
              "      <td>0.000000</td>\n",
              "      <td>1.000000</td>\n",
              "    </tr>\n",
              "    <tr>\n",
              "      <th>25%</th>\n",
              "      <td>4345.5000</td>\n",
              "      <td>2.000000</td>\n",
              "      <td>0.000000</td>\n",
              "      <td>4.000000</td>\n",
              "      <td>6.000000</td>\n",
              "      <td>0.000000</td>\n",
              "      <td>1.000000</td>\n",
              "      <td>0.000000</td>\n",
              "      <td>1.000000</td>\n",
              "      <td>0.340000</td>\n",
              "      <td>0.333300</td>\n",
              "      <td>0.480000</td>\n",
              "      <td>0.104500</td>\n",
              "      <td>4.000000</td>\n",
              "      <td>34.000000</td>\n",
              "      <td>40.000000</td>\n",
              "    </tr>\n",
              "    <tr>\n",
              "      <th>50%</th>\n",
              "      <td>8690.0000</td>\n",
              "      <td>3.000000</td>\n",
              "      <td>1.000000</td>\n",
              "      <td>7.000000</td>\n",
              "      <td>12.000000</td>\n",
              "      <td>0.000000</td>\n",
              "      <td>3.000000</td>\n",
              "      <td>1.000000</td>\n",
              "      <td>1.000000</td>\n",
              "      <td>0.500000</td>\n",
              "      <td>0.484800</td>\n",
              "      <td>0.630000</td>\n",
              "      <td>0.194000</td>\n",
              "      <td>17.000000</td>\n",
              "      <td>115.000000</td>\n",
              "      <td>142.000000</td>\n",
              "    </tr>\n",
              "    <tr>\n",
              "      <th>75%</th>\n",
              "      <td>13034.5000</td>\n",
              "      <td>3.000000</td>\n",
              "      <td>1.000000</td>\n",
              "      <td>10.000000</td>\n",
              "      <td>18.000000</td>\n",
              "      <td>0.000000</td>\n",
              "      <td>5.000000</td>\n",
              "      <td>1.000000</td>\n",
              "      <td>2.000000</td>\n",
              "      <td>0.660000</td>\n",
              "      <td>0.621200</td>\n",
              "      <td>0.780000</td>\n",
              "      <td>0.253700</td>\n",
              "      <td>48.000000</td>\n",
              "      <td>220.000000</td>\n",
              "      <td>281.000000</td>\n",
              "    </tr>\n",
              "    <tr>\n",
              "      <th>max</th>\n",
              "      <td>17379.0000</td>\n",
              "      <td>4.000000</td>\n",
              "      <td>1.000000</td>\n",
              "      <td>12.000000</td>\n",
              "      <td>23.000000</td>\n",
              "      <td>1.000000</td>\n",
              "      <td>6.000000</td>\n",
              "      <td>1.000000</td>\n",
              "      <td>4.000000</td>\n",
              "      <td>1.000000</td>\n",
              "      <td>1.000000</td>\n",
              "      <td>1.000000</td>\n",
              "      <td>0.850700</td>\n",
              "      <td>367.000000</td>\n",
              "      <td>886.000000</td>\n",
              "      <td>977.000000</td>\n",
              "    </tr>\n",
              "  </tbody>\n",
              "</table>\n",
              "</div>"
            ],
            "text/plain": [
              "          instant        season            yr          mnth            hr  \\\n",
              "count  17379.0000  17379.000000  17379.000000  17379.000000  17379.000000   \n",
              "mean    8690.0000      2.501640      0.502561      6.537775     11.546752   \n",
              "std     5017.0295      1.106918      0.500008      3.438776      6.914405   \n",
              "min        1.0000      1.000000      0.000000      1.000000      0.000000   \n",
              "25%     4345.5000      2.000000      0.000000      4.000000      6.000000   \n",
              "50%     8690.0000      3.000000      1.000000      7.000000     12.000000   \n",
              "75%    13034.5000      3.000000      1.000000     10.000000     18.000000   \n",
              "max    17379.0000      4.000000      1.000000     12.000000     23.000000   \n",
              "\n",
              "            holiday       weekday    workingday    weathersit          temp  \\\n",
              "count  17379.000000  17379.000000  17379.000000  17379.000000  17379.000000   \n",
              "mean       0.028770      3.003683      0.682721      1.425283      0.496987   \n",
              "std        0.167165      2.005771      0.465431      0.639357      0.192556   \n",
              "min        0.000000      0.000000      0.000000      1.000000      0.020000   \n",
              "25%        0.000000      1.000000      0.000000      1.000000      0.340000   \n",
              "50%        0.000000      3.000000      1.000000      1.000000      0.500000   \n",
              "75%        0.000000      5.000000      1.000000      2.000000      0.660000   \n",
              "max        1.000000      6.000000      1.000000      4.000000      1.000000   \n",
              "\n",
              "              atemp           hum     windspeed        casual    registered  \\\n",
              "count  17379.000000  17379.000000  17379.000000  17379.000000  17379.000000   \n",
              "mean       0.475775      0.627229      0.190098     35.676218    153.786869   \n",
              "std        0.171850      0.192930      0.122340     49.305030    151.357286   \n",
              "min        0.000000      0.000000      0.000000      0.000000      0.000000   \n",
              "25%        0.333300      0.480000      0.104500      4.000000     34.000000   \n",
              "50%        0.484800      0.630000      0.194000     17.000000    115.000000   \n",
              "75%        0.621200      0.780000      0.253700     48.000000    220.000000   \n",
              "max        1.000000      1.000000      0.850700    367.000000    886.000000   \n",
              "\n",
              "                cnt  \n",
              "count  17379.000000  \n",
              "mean     189.463088  \n",
              "std      181.387599  \n",
              "min        1.000000  \n",
              "25%       40.000000  \n",
              "50%      142.000000  \n",
              "75%      281.000000  \n",
              "max      977.000000  "
            ]
          },
          "execution_count": 1533,
          "metadata": {},
          "output_type": "execute_result"
        }
      ],
      "source": [
        "print(\"Jumlah duplikasi: \",hourly_data.duplicated().sum())\n",
        "hourly_data.describe()"
      ]
    },
    {
      "cell_type": "markdown",
      "metadata": {
        "id": "EhN5R4hr8DC1"
      },
      "source": [
        "### Cleaning Data"
      ]
    },
    {
      "cell_type": "markdown",
      "metadata": {},
      "source": [
        "- Jika ditemukan masalah dalam data seperti missing values atau duplikasi, tahapan berikutnya adalah membersihkan data dengan menghapus atau mengganti nilai yang tidak valid. Ini dapat dilakukan dengan menggunakan metode seperti dropna() untuk menghapus missing values dan drop_duplicates() untuk menghapus duplikasi."
      ]
    },
    {
      "cell_type": "code",
      "execution_count": 1534,
      "metadata": {
        "id": "jVnYpprE9Evz"
      },
      "outputs": [],
      "source": [
        "hourly_data.dropna(inplace=True)\n",
        "daily_data.dropna(inplace=True)"
      ]
    },
    {
      "cell_type": "code",
      "execution_count": 1535,
      "metadata": {},
      "outputs": [],
      "source": [
        "hourly_data.drop_duplicates(inplace=True)\n",
        "daily_data.drop_duplicates(inplace=True)"
      ]
    },
    {
      "cell_type": "code",
      "execution_count": 1536,
      "metadata": {},
      "outputs": [],
      "source": [
        "hourly_data['dteday'] = pd.to_datetime(hourly_data['dteday'])\n",
        "daily_data['dteday'] = pd.to_datetime(daily_data['dteday'])"
      ]
    },
    {
      "cell_type": "code",
      "execution_count": 1537,
      "metadata": {},
      "outputs": [],
      "source": [
        "# Gabungkan DataFrames hourly_data dan daily_data\n",
        "all_df = pd.merge(hourly_data, daily_data, on='dteday')\n",
        "\n",
        "# Simpan DataFrame all_df ke dalam file CSV\n",
        "all_df.to_csv(\"main_data.csv\", index=False)"
      ]
    },
    {
      "cell_type": "markdown",
      "metadata": {
        "id": "gp-Y6wU38DC1"
      },
      "source": [
        "## Exploratory Data Analysis (EDA)"
      ]
    },
    {
      "cell_type": "markdown",
      "metadata": {
        "id": "MW7WF2kr8DC1"
      },
      "source": [
        "### Explore ..."
      ]
    },
    {
      "cell_type": "code",
      "execution_count": 1538,
      "metadata": {
        "id": "e9CQCZjk8DC2"
      },
      "outputs": [
        {
          "data": {
            "text/html": [
              "<div>\n",
              "<style scoped>\n",
              "    .dataframe tbody tr th:only-of-type {\n",
              "        vertical-align: middle;\n",
              "    }\n",
              "\n",
              "    .dataframe tbody tr th {\n",
              "        vertical-align: top;\n",
              "    }\n",
              "\n",
              "    .dataframe thead th {\n",
              "        text-align: right;\n",
              "    }\n",
              "</style>\n",
              "<table border=\"1\" class=\"dataframe\">\n",
              "  <thead>\n",
              "    <tr style=\"text-align: right;\">\n",
              "      <th></th>\n",
              "      <th>instant</th>\n",
              "      <th>dteday</th>\n",
              "      <th>season</th>\n",
              "      <th>yr</th>\n",
              "      <th>mnth</th>\n",
              "      <th>hr</th>\n",
              "      <th>holiday</th>\n",
              "      <th>weekday</th>\n",
              "      <th>workingday</th>\n",
              "      <th>weathersit</th>\n",
              "      <th>temp</th>\n",
              "      <th>atemp</th>\n",
              "      <th>hum</th>\n",
              "      <th>windspeed</th>\n",
              "      <th>casual</th>\n",
              "      <th>registered</th>\n",
              "      <th>cnt</th>\n",
              "    </tr>\n",
              "  </thead>\n",
              "  <tbody>\n",
              "    <tr>\n",
              "      <th>5463</th>\n",
              "      <td>5464</td>\n",
              "      <td>2011-08-20</td>\n",
              "      <td>3</td>\n",
              "      <td>0</td>\n",
              "      <td>8</td>\n",
              "      <td>13</td>\n",
              "      <td>0</td>\n",
              "      <td>6</td>\n",
              "      <td>0</td>\n",
              "      <td>1</td>\n",
              "      <td>0.76</td>\n",
              "      <td>0.6970</td>\n",
              "      <td>0.55</td>\n",
              "      <td>0.1343</td>\n",
              "      <td>158</td>\n",
              "      <td>220</td>\n",
              "      <td>378</td>\n",
              "    </tr>\n",
              "    <tr>\n",
              "      <th>7915</th>\n",
              "      <td>7916</td>\n",
              "      <td>2011-12-01</td>\n",
              "      <td>4</td>\n",
              "      <td>0</td>\n",
              "      <td>12</td>\n",
              "      <td>11</td>\n",
              "      <td>0</td>\n",
              "      <td>4</td>\n",
              "      <td>1</td>\n",
              "      <td>1</td>\n",
              "      <td>0.34</td>\n",
              "      <td>0.3182</td>\n",
              "      <td>0.49</td>\n",
              "      <td>0.2537</td>\n",
              "      <td>7</td>\n",
              "      <td>95</td>\n",
              "      <td>102</td>\n",
              "    </tr>\n",
              "    <tr>\n",
              "      <th>10317</th>\n",
              "      <td>10318</td>\n",
              "      <td>2012-03-10</td>\n",
              "      <td>1</td>\n",
              "      <td>1</td>\n",
              "      <td>3</td>\n",
              "      <td>23</td>\n",
              "      <td>0</td>\n",
              "      <td>6</td>\n",
              "      <td>0</td>\n",
              "      <td>1</td>\n",
              "      <td>0.26</td>\n",
              "      <td>0.2576</td>\n",
              "      <td>0.41</td>\n",
              "      <td>0.1940</td>\n",
              "      <td>6</td>\n",
              "      <td>77</td>\n",
              "      <td>83</td>\n",
              "    </tr>\n",
              "    <tr>\n",
              "      <th>13533</th>\n",
              "      <td>13534</td>\n",
              "      <td>2012-07-23</td>\n",
              "      <td>3</td>\n",
              "      <td>1</td>\n",
              "      <td>7</td>\n",
              "      <td>2</td>\n",
              "      <td>0</td>\n",
              "      <td>1</td>\n",
              "      <td>1</td>\n",
              "      <td>2</td>\n",
              "      <td>0.66</td>\n",
              "      <td>0.5909</td>\n",
              "      <td>0.94</td>\n",
              "      <td>0.0896</td>\n",
              "      <td>3</td>\n",
              "      <td>14</td>\n",
              "      <td>17</td>\n",
              "    </tr>\n",
              "    <tr>\n",
              "      <th>8064</th>\n",
              "      <td>8065</td>\n",
              "      <td>2011-12-07</td>\n",
              "      <td>4</td>\n",
              "      <td>0</td>\n",
              "      <td>12</td>\n",
              "      <td>16</td>\n",
              "      <td>0</td>\n",
              "      <td>3</td>\n",
              "      <td>1</td>\n",
              "      <td>3</td>\n",
              "      <td>0.42</td>\n",
              "      <td>0.4242</td>\n",
              "      <td>0.94</td>\n",
              "      <td>0.1940</td>\n",
              "      <td>3</td>\n",
              "      <td>28</td>\n",
              "      <td>31</td>\n",
              "    </tr>\n",
              "  </tbody>\n",
              "</table>\n",
              "</div>"
            ],
            "text/plain": [
              "       instant     dteday  season  yr  mnth  hr  holiday  weekday  workingday  \\\n",
              "5463      5464 2011-08-20       3   0     8  13        0        6           0   \n",
              "7915      7916 2011-12-01       4   0    12  11        0        4           1   \n",
              "10317    10318 2012-03-10       1   1     3  23        0        6           0   \n",
              "13533    13534 2012-07-23       3   1     7   2        0        1           1   \n",
              "8064      8065 2011-12-07       4   0    12  16        0        3           1   \n",
              "\n",
              "       weathersit  temp   atemp   hum  windspeed  casual  registered  cnt  \n",
              "5463            1  0.76  0.6970  0.55     0.1343     158         220  378  \n",
              "7915            1  0.34  0.3182  0.49     0.2537       7          95  102  \n",
              "10317           1  0.26  0.2576  0.41     0.1940       6          77   83  \n",
              "13533           2  0.66  0.5909  0.94     0.0896       3          14   17  \n",
              "8064            3  0.42  0.4242  0.94     0.1940       3          28   31  "
            ]
          },
          "execution_count": 1538,
          "metadata": {},
          "output_type": "execute_result"
        }
      ],
      "source": [
        "hourly_data.sample(5)"
      ]
    },
    {
      "cell_type": "code",
      "execution_count": 1539,
      "metadata": {},
      "outputs": [
        {
          "data": {
            "text/html": [
              "<div>\n",
              "<style scoped>\n",
              "    .dataframe tbody tr th:only-of-type {\n",
              "        vertical-align: middle;\n",
              "    }\n",
              "\n",
              "    .dataframe tbody tr th {\n",
              "        vertical-align: top;\n",
              "    }\n",
              "\n",
              "    .dataframe thead th {\n",
              "        text-align: right;\n",
              "    }\n",
              "</style>\n",
              "<table border=\"1\" class=\"dataframe\">\n",
              "  <thead>\n",
              "    <tr style=\"text-align: right;\">\n",
              "      <th></th>\n",
              "      <th>instant</th>\n",
              "      <th>dteday</th>\n",
              "      <th>season</th>\n",
              "      <th>yr</th>\n",
              "      <th>mnth</th>\n",
              "      <th>holiday</th>\n",
              "      <th>weekday</th>\n",
              "      <th>workingday</th>\n",
              "      <th>weathersit</th>\n",
              "      <th>temp</th>\n",
              "      <th>atemp</th>\n",
              "      <th>hum</th>\n",
              "      <th>windspeed</th>\n",
              "      <th>casual</th>\n",
              "      <th>registered</th>\n",
              "      <th>cnt</th>\n",
              "    </tr>\n",
              "  </thead>\n",
              "  <tbody>\n",
              "    <tr>\n",
              "      <th>355</th>\n",
              "      <td>356</td>\n",
              "      <td>2011-12-22</td>\n",
              "      <td>1</td>\n",
              "      <td>0</td>\n",
              "      <td>12</td>\n",
              "      <td>0</td>\n",
              "      <td>4</td>\n",
              "      <td>1</td>\n",
              "      <td>2</td>\n",
              "      <td>0.423333</td>\n",
              "      <td>0.426121</td>\n",
              "      <td>0.757500</td>\n",
              "      <td>0.047275</td>\n",
              "      <td>227</td>\n",
              "      <td>2841</td>\n",
              "      <td>3068</td>\n",
              "    </tr>\n",
              "    <tr>\n",
              "      <th>426</th>\n",
              "      <td>427</td>\n",
              "      <td>2012-03-02</td>\n",
              "      <td>1</td>\n",
              "      <td>1</td>\n",
              "      <td>3</td>\n",
              "      <td>0</td>\n",
              "      <td>5</td>\n",
              "      <td>1</td>\n",
              "      <td>2</td>\n",
              "      <td>0.353333</td>\n",
              "      <td>0.359842</td>\n",
              "      <td>0.657083</td>\n",
              "      <td>0.144904</td>\n",
              "      <td>246</td>\n",
              "      <td>2948</td>\n",
              "      <td>3194</td>\n",
              "    </tr>\n",
              "    <tr>\n",
              "      <th>261</th>\n",
              "      <td>262</td>\n",
              "      <td>2011-09-19</td>\n",
              "      <td>3</td>\n",
              "      <td>0</td>\n",
              "      <td>9</td>\n",
              "      <td>0</td>\n",
              "      <td>1</td>\n",
              "      <td>1</td>\n",
              "      <td>2</td>\n",
              "      <td>0.549167</td>\n",
              "      <td>0.529675</td>\n",
              "      <td>0.690000</td>\n",
              "      <td>0.151742</td>\n",
              "      <td>691</td>\n",
              "      <td>3848</td>\n",
              "      <td>4539</td>\n",
              "    </tr>\n",
              "    <tr>\n",
              "      <th>697</th>\n",
              "      <td>698</td>\n",
              "      <td>2012-11-28</td>\n",
              "      <td>4</td>\n",
              "      <td>1</td>\n",
              "      <td>11</td>\n",
              "      <td>0</td>\n",
              "      <td>3</td>\n",
              "      <td>1</td>\n",
              "      <td>1</td>\n",
              "      <td>0.296667</td>\n",
              "      <td>0.289762</td>\n",
              "      <td>0.506250</td>\n",
              "      <td>0.210821</td>\n",
              "      <td>198</td>\n",
              "      <td>5062</td>\n",
              "      <td>5260</td>\n",
              "    </tr>\n",
              "    <tr>\n",
              "      <th>433</th>\n",
              "      <td>434</td>\n",
              "      <td>2012-03-09</td>\n",
              "      <td>1</td>\n",
              "      <td>1</td>\n",
              "      <td>3</td>\n",
              "      <td>0</td>\n",
              "      <td>5</td>\n",
              "      <td>1</td>\n",
              "      <td>2</td>\n",
              "      <td>0.410833</td>\n",
              "      <td>0.397083</td>\n",
              "      <td>0.407083</td>\n",
              "      <td>0.414800</td>\n",
              "      <td>447</td>\n",
              "      <td>4122</td>\n",
              "      <td>4569</td>\n",
              "    </tr>\n",
              "  </tbody>\n",
              "</table>\n",
              "</div>"
            ],
            "text/plain": [
              "     instant     dteday  season  yr  mnth  holiday  weekday  workingday  \\\n",
              "355      356 2011-12-22       1   0    12        0        4           1   \n",
              "426      427 2012-03-02       1   1     3        0        5           1   \n",
              "261      262 2011-09-19       3   0     9        0        1           1   \n",
              "697      698 2012-11-28       4   1    11        0        3           1   \n",
              "433      434 2012-03-09       1   1     3        0        5           1   \n",
              "\n",
              "     weathersit      temp     atemp       hum  windspeed  casual  registered  \\\n",
              "355           2  0.423333  0.426121  0.757500   0.047275     227        2841   \n",
              "426           2  0.353333  0.359842  0.657083   0.144904     246        2948   \n",
              "261           2  0.549167  0.529675  0.690000   0.151742     691        3848   \n",
              "697           1  0.296667  0.289762  0.506250   0.210821     198        5062   \n",
              "433           2  0.410833  0.397083  0.407083   0.414800     447        4122   \n",
              "\n",
              "      cnt  \n",
              "355  3068  \n",
              "426  3194  \n",
              "261  4539  \n",
              "697  5260  \n",
              "433  4569  "
            ]
          },
          "execution_count": 1539,
          "metadata": {},
          "output_type": "execute_result"
        }
      ],
      "source": [
        "daily_data.sample(5)"
      ]
    },
    {
      "cell_type": "code",
      "execution_count": 1540,
      "metadata": {},
      "outputs": [
        {
          "data": {
            "text/html": [
              "<div>\n",
              "<style scoped>\n",
              "    .dataframe tbody tr th:only-of-type {\n",
              "        vertical-align: middle;\n",
              "    }\n",
              "\n",
              "    .dataframe tbody tr th {\n",
              "        vertical-align: top;\n",
              "    }\n",
              "\n",
              "    .dataframe thead th {\n",
              "        text-align: right;\n",
              "    }\n",
              "</style>\n",
              "<table border=\"1\" class=\"dataframe\">\n",
              "  <thead>\n",
              "    <tr style=\"text-align: right;\">\n",
              "      <th></th>\n",
              "      <th>instant</th>\n",
              "      <th>dteday</th>\n",
              "      <th>season</th>\n",
              "      <th>yr</th>\n",
              "      <th>mnth</th>\n",
              "      <th>holiday</th>\n",
              "      <th>weekday</th>\n",
              "      <th>workingday</th>\n",
              "      <th>weathersit</th>\n",
              "      <th>temp</th>\n",
              "      <th>atemp</th>\n",
              "      <th>hum</th>\n",
              "      <th>windspeed</th>\n",
              "      <th>casual</th>\n",
              "      <th>registered</th>\n",
              "      <th>cnt</th>\n",
              "    </tr>\n",
              "  </thead>\n",
              "  <tbody>\n",
              "    <tr>\n",
              "      <th>0</th>\n",
              "      <td>1</td>\n",
              "      <td>2011-01-01</td>\n",
              "      <td>1</td>\n",
              "      <td>0</td>\n",
              "      <td>1</td>\n",
              "      <td>0</td>\n",
              "      <td>6</td>\n",
              "      <td>0</td>\n",
              "      <td>2</td>\n",
              "      <td>0.344167</td>\n",
              "      <td>0.363625</td>\n",
              "      <td>0.805833</td>\n",
              "      <td>0.160446</td>\n",
              "      <td>331</td>\n",
              "      <td>654</td>\n",
              "      <td>985</td>\n",
              "    </tr>\n",
              "    <tr>\n",
              "      <th>1</th>\n",
              "      <td>2</td>\n",
              "      <td>2011-01-02</td>\n",
              "      <td>1</td>\n",
              "      <td>0</td>\n",
              "      <td>1</td>\n",
              "      <td>0</td>\n",
              "      <td>0</td>\n",
              "      <td>0</td>\n",
              "      <td>2</td>\n",
              "      <td>0.363478</td>\n",
              "      <td>0.353739</td>\n",
              "      <td>0.696087</td>\n",
              "      <td>0.248539</td>\n",
              "      <td>131</td>\n",
              "      <td>670</td>\n",
              "      <td>801</td>\n",
              "    </tr>\n",
              "    <tr>\n",
              "      <th>2</th>\n",
              "      <td>3</td>\n",
              "      <td>2011-01-03</td>\n",
              "      <td>1</td>\n",
              "      <td>0</td>\n",
              "      <td>1</td>\n",
              "      <td>0</td>\n",
              "      <td>1</td>\n",
              "      <td>1</td>\n",
              "      <td>1</td>\n",
              "      <td>0.196364</td>\n",
              "      <td>0.189405</td>\n",
              "      <td>0.437273</td>\n",
              "      <td>0.248309</td>\n",
              "      <td>120</td>\n",
              "      <td>1229</td>\n",
              "      <td>1349</td>\n",
              "    </tr>\n",
              "    <tr>\n",
              "      <th>3</th>\n",
              "      <td>4</td>\n",
              "      <td>2011-01-04</td>\n",
              "      <td>1</td>\n",
              "      <td>0</td>\n",
              "      <td>1</td>\n",
              "      <td>0</td>\n",
              "      <td>2</td>\n",
              "      <td>1</td>\n",
              "      <td>1</td>\n",
              "      <td>0.200000</td>\n",
              "      <td>0.212122</td>\n",
              "      <td>0.590435</td>\n",
              "      <td>0.160296</td>\n",
              "      <td>108</td>\n",
              "      <td>1454</td>\n",
              "      <td>1562</td>\n",
              "    </tr>\n",
              "    <tr>\n",
              "      <th>4</th>\n",
              "      <td>5</td>\n",
              "      <td>2011-01-05</td>\n",
              "      <td>1</td>\n",
              "      <td>0</td>\n",
              "      <td>1</td>\n",
              "      <td>0</td>\n",
              "      <td>3</td>\n",
              "      <td>1</td>\n",
              "      <td>1</td>\n",
              "      <td>0.226957</td>\n",
              "      <td>0.229270</td>\n",
              "      <td>0.436957</td>\n",
              "      <td>0.186900</td>\n",
              "      <td>82</td>\n",
              "      <td>1518</td>\n",
              "      <td>1600</td>\n",
              "    </tr>\n",
              "  </tbody>\n",
              "</table>\n",
              "</div>"
            ],
            "text/plain": [
              "   instant     dteday  season  yr  mnth  holiday  weekday  workingday  \\\n",
              "0        1 2011-01-01       1   0     1        0        6           0   \n",
              "1        2 2011-01-02       1   0     1        0        0           0   \n",
              "2        3 2011-01-03       1   0     1        0        1           1   \n",
              "3        4 2011-01-04       1   0     1        0        2           1   \n",
              "4        5 2011-01-05       1   0     1        0        3           1   \n",
              "\n",
              "   weathersit      temp     atemp       hum  windspeed  casual  registered  \\\n",
              "0           2  0.344167  0.363625  0.805833   0.160446     331         654   \n",
              "1           2  0.363478  0.353739  0.696087   0.248539     131         670   \n",
              "2           1  0.196364  0.189405  0.437273   0.248309     120        1229   \n",
              "3           1  0.200000  0.212122  0.590435   0.160296     108        1454   \n",
              "4           1  0.226957  0.229270  0.436957   0.186900      82        1518   \n",
              "\n",
              "    cnt  \n",
              "0   985  \n",
              "1   801  \n",
              "2  1349  \n",
              "3  1562  \n",
              "4  1600  "
            ]
          },
          "execution_count": 1540,
          "metadata": {},
          "output_type": "execute_result"
        }
      ],
      "source": [
        "daily_data.head()"
      ]
    },
    {
      "cell_type": "code",
      "execution_count": 1541,
      "metadata": {},
      "outputs": [
        {
          "data": {
            "text/html": [
              "<div>\n",
              "<style scoped>\n",
              "    .dataframe tbody tr th:only-of-type {\n",
              "        vertical-align: middle;\n",
              "    }\n",
              "\n",
              "    .dataframe tbody tr th {\n",
              "        vertical-align: top;\n",
              "    }\n",
              "\n",
              "    .dataframe thead th {\n",
              "        text-align: right;\n",
              "    }\n",
              "</style>\n",
              "<table border=\"1\" class=\"dataframe\">\n",
              "  <thead>\n",
              "    <tr style=\"text-align: right;\">\n",
              "      <th></th>\n",
              "      <th>instant</th>\n",
              "      <th>dteday</th>\n",
              "      <th>season</th>\n",
              "      <th>yr</th>\n",
              "      <th>mnth</th>\n",
              "      <th>hr</th>\n",
              "      <th>holiday</th>\n",
              "      <th>weekday</th>\n",
              "      <th>workingday</th>\n",
              "      <th>weathersit</th>\n",
              "      <th>temp</th>\n",
              "      <th>atemp</th>\n",
              "      <th>hum</th>\n",
              "      <th>windspeed</th>\n",
              "      <th>casual</th>\n",
              "      <th>registered</th>\n",
              "      <th>cnt</th>\n",
              "    </tr>\n",
              "  </thead>\n",
              "  <tbody>\n",
              "    <tr>\n",
              "      <th>0</th>\n",
              "      <td>1</td>\n",
              "      <td>2011-01-01</td>\n",
              "      <td>1</td>\n",
              "      <td>0</td>\n",
              "      <td>1</td>\n",
              "      <td>0</td>\n",
              "      <td>0</td>\n",
              "      <td>6</td>\n",
              "      <td>0</td>\n",
              "      <td>1</td>\n",
              "      <td>0.24</td>\n",
              "      <td>0.2879</td>\n",
              "      <td>0.81</td>\n",
              "      <td>0.0</td>\n",
              "      <td>3</td>\n",
              "      <td>13</td>\n",
              "      <td>16</td>\n",
              "    </tr>\n",
              "    <tr>\n",
              "      <th>1</th>\n",
              "      <td>2</td>\n",
              "      <td>2011-01-01</td>\n",
              "      <td>1</td>\n",
              "      <td>0</td>\n",
              "      <td>1</td>\n",
              "      <td>1</td>\n",
              "      <td>0</td>\n",
              "      <td>6</td>\n",
              "      <td>0</td>\n",
              "      <td>1</td>\n",
              "      <td>0.22</td>\n",
              "      <td>0.2727</td>\n",
              "      <td>0.80</td>\n",
              "      <td>0.0</td>\n",
              "      <td>8</td>\n",
              "      <td>32</td>\n",
              "      <td>40</td>\n",
              "    </tr>\n",
              "    <tr>\n",
              "      <th>2</th>\n",
              "      <td>3</td>\n",
              "      <td>2011-01-01</td>\n",
              "      <td>1</td>\n",
              "      <td>0</td>\n",
              "      <td>1</td>\n",
              "      <td>2</td>\n",
              "      <td>0</td>\n",
              "      <td>6</td>\n",
              "      <td>0</td>\n",
              "      <td>1</td>\n",
              "      <td>0.22</td>\n",
              "      <td>0.2727</td>\n",
              "      <td>0.80</td>\n",
              "      <td>0.0</td>\n",
              "      <td>5</td>\n",
              "      <td>27</td>\n",
              "      <td>32</td>\n",
              "    </tr>\n",
              "    <tr>\n",
              "      <th>3</th>\n",
              "      <td>4</td>\n",
              "      <td>2011-01-01</td>\n",
              "      <td>1</td>\n",
              "      <td>0</td>\n",
              "      <td>1</td>\n",
              "      <td>3</td>\n",
              "      <td>0</td>\n",
              "      <td>6</td>\n",
              "      <td>0</td>\n",
              "      <td>1</td>\n",
              "      <td>0.24</td>\n",
              "      <td>0.2879</td>\n",
              "      <td>0.75</td>\n",
              "      <td>0.0</td>\n",
              "      <td>3</td>\n",
              "      <td>10</td>\n",
              "      <td>13</td>\n",
              "    </tr>\n",
              "    <tr>\n",
              "      <th>4</th>\n",
              "      <td>5</td>\n",
              "      <td>2011-01-01</td>\n",
              "      <td>1</td>\n",
              "      <td>0</td>\n",
              "      <td>1</td>\n",
              "      <td>4</td>\n",
              "      <td>0</td>\n",
              "      <td>6</td>\n",
              "      <td>0</td>\n",
              "      <td>1</td>\n",
              "      <td>0.24</td>\n",
              "      <td>0.2879</td>\n",
              "      <td>0.75</td>\n",
              "      <td>0.0</td>\n",
              "      <td>0</td>\n",
              "      <td>1</td>\n",
              "      <td>1</td>\n",
              "    </tr>\n",
              "  </tbody>\n",
              "</table>\n",
              "</div>"
            ],
            "text/plain": [
              "   instant     dteday  season  yr  mnth  hr  holiday  weekday  workingday  \\\n",
              "0        1 2011-01-01       1   0     1   0        0        6           0   \n",
              "1        2 2011-01-01       1   0     1   1        0        6           0   \n",
              "2        3 2011-01-01       1   0     1   2        0        6           0   \n",
              "3        4 2011-01-01       1   0     1   3        0        6           0   \n",
              "4        5 2011-01-01       1   0     1   4        0        6           0   \n",
              "\n",
              "   weathersit  temp   atemp   hum  windspeed  casual  registered  cnt  \n",
              "0           1  0.24  0.2879  0.81        0.0       3          13   16  \n",
              "1           1  0.22  0.2727  0.80        0.0       8          32   40  \n",
              "2           1  0.22  0.2727  0.80        0.0       5          27   32  \n",
              "3           1  0.24  0.2879  0.75        0.0       3          10   13  \n",
              "4           1  0.24  0.2879  0.75        0.0       0           1    1  "
            ]
          },
          "execution_count": 1541,
          "metadata": {},
          "output_type": "execute_result"
        }
      ],
      "source": [
        "\n",
        "hourly_data.head()"
      ]
    },
    {
      "cell_type": "code",
      "execution_count": 1542,
      "metadata": {},
      "outputs": [],
      "source": [
        "all_df = pd.merge(daily_data, hourly_data, on='instant')"
      ]
    },
    {
      "cell_type": "code",
      "execution_count": 1543,
      "metadata": {},
      "outputs": [
        {
          "name": "stdout",
          "output_type": "stream",
          "text": [
            "season\n",
            "1    2604.132597\n",
            "2    4992.331522\n",
            "3    5644.303191\n",
            "4    4728.162921\n",
            "Name: cnt, dtype: float64\n"
          ]
        }
      ],
      "source": [
        "average_rentals_by_weather = daily_data.groupby('season')['cnt'].mean()\n",
        "print(average_rentals_by_weather)"
      ]
    },
    {
      "cell_type": "markdown",
      "metadata": {
        "id": "zsyZjqak8DC2"
      },
      "source": [
        "## Visualization & Explanatory Analysis"
      ]
    },
    {
      "cell_type": "markdown",
      "metadata": {
        "id": "HZxOiQ6n8DC2"
      },
      "source": [
        "### Pertanyaan 1:"
      ]
    },
    {
      "cell_type": "code",
      "execution_count": 1544,
      "metadata": {},
      "outputs": [],
      "source": [
        "merged_data = pd.merge(hourly_data, daily_data, on='dteday')"
      ]
    },
    {
      "cell_type": "code",
      "execution_count": 1545,
      "metadata": {},
      "outputs": [
        {
          "data": {
            "image/png": "[encoded data removed]",
            "text/plain": [
              "<Figure size 1000x600 with 1 Axes>"
            ]
          },
          "metadata": {},
          "output_type": "display_data"
        }
      ],
      "source": [
        "\n",
        "# Mengelompokkan data peminjaman sepeda untuk setiap tiga bulan\n",
        "total_rentals_by_3_months = merged_data.resample('3M', on='dteday')['cnt_x'].sum().reset_index()\n",
        "\n",
        "# Membuat dataframe baru dengan total jumlah peminjaman sepeda untuk setiap kondisi cuaca pada setiap tiga bulan\n",
        "total_rentals_by_weather_3_months = merged_data.groupby([pd.Grouper(key='dteday', freq='3M'), 'weathersit_x'])['cnt_x'].sum().reset_index()\n",
        "\n",
        "plt.figure(figsize=(10, 6))\n",
        "\n",
        "# Menentukan palet warna yang sama untuk scatterplot dan lineplot\n",
        "palette = sns.color_palette('Set2', len(total_rentals_by_weather_3_months['weathersit_x'].unique()))\n",
        "\n",
        "# Menambahkan informasi kondisi cuaca dengan warna yang berbeda\n",
        "sns.scatterplot(data=total_rentals_by_weather_3_months, x='dteday', y='cnt_x', hue='weathersit_x', palette=palette, legend=True, s=100)\n",
        "\n",
        "# Menghubungkan titik-titik cuaca dengan garis untuk tiap kondisi cuaca\n",
        "for _, group_data in total_rentals_by_weather_3_months.groupby('weathersit_x'):\n",
        "    sns.lineplot(data=group_data, x='dteday', y='cnt_x', marker='o', linestyle='-')\n",
        "\n",
        "plt.title('Pola Peminjaman Sepeda setiap Tiga Bulan dengan Kondisi Cuaca')\n",
        "plt.xlabel('Tanggal')\n",
        "plt.ylabel('Jumlah Total Peminjaman Sepeda')\n",
        "\n",
        "plt.xticks(rotation=45)  # Label sumbu x sesuai dengan bulan\n",
        "\n",
        "plt.tight_layout()  # Memperbaiki tata letak agar tidak tumpang tindih\n",
        "\n",
        "plt.show()\n"
      ]
    },
    {
      "cell_type": "markdown",
      "metadata": {},
      "source": [
        "Berikut tahapan analisis untuk pertanyaan diatas :\n",
        "\n",
        "1. **Pengelompokkan Data Tiga Bulan**:\n",
        "   - Mengelompokkan data peminjaman sepeda setiap tiga bulan menggunakan metode `resample` pada kolom 'dteday'.\n",
        "\n",
        "2. **Membuat Dataframe Total Peminjaman per Kondisi Cuaca**:\n",
        "   - Mengelompokkan data berdasarkan kondisi cuaca dan periode tiga bulan menggunakan metode `groupby`.\n",
        "\n",
        "3. **Visualisasi Data**:\n",
        "   - Membuat scatter plot dengan warna yang berbeda untuk masing-masing kondisi cuaca.\n",
        "\n",
        "4. **Penyajian Visualisasi**:\n",
        "    - Keterangan weathershit : 1=Cerah, 2=Berawan, 3=Hujan Ringan, 4=Hujan Lebat\n",
        "\n",
        "5. **Menampilkan Plot**:\n",
        "   - Menampilkan plot menggunakan fungsi `plt.show()`.\n"
      ]
    },
    {
      "cell_type": "markdown",
      "metadata": {
        "id": "DgHI7CiU8DC2"
      },
      "source": [
        "### Pertanyaan 2:"
      ]
    },
    {
      "cell_type": "markdown",
      "metadata": {},
      "source": [
        "a. Kira-kira berapa jumlah peminjaman sepeda berdasarkan Jam dalam satu hari?"
      ]
    },
    {
      "cell_type": "code",
      "execution_count": 1546,
      "metadata": {
        "id": "Go0lCsvO8DC2"
      },
      "outputs": [
        {
          "data": {
            "image/png": "[encoded data removed]",
            "text/plain": [
              "<Figure size 1000x600 with 1 Axes>"
            ]
          },
          "metadata": {},
          "output_type": "display_data"
        }
      ],
      "source": [
        "# Load data\n",
        "hourly_data = pd.read_csv('data/hour.csv')\n",
        "\n",
        "# Hitung rata-rata jumlah peminjaman sepeda untuk setiap jam\n",
        "average_rentals_by_hour = hourly_data.groupby('hr')['cnt'].mean()\n",
        "\n",
        "# Plot jumlah rata-rata peminjaman sepeda berdasarkan jam dalam satu hari\n",
        "plt.figure(figsize=(10, 6))\n",
        "plt.plot(average_rentals_by_hour.index, average_rentals_by_hour.values, marker='o')\n",
        "plt.title('Rata-Rata Jumlah Peminjaman Sepeda per Jam dalam Satu Hari')\n",
        "plt.xlabel('Jam (1-24)')\n",
        "plt.ylabel('Rata-Rata Jumlah Peminjaman')\n",
        "plt.xticks(range(0, 24))  # Mengatur label sumbu x mulai dari jam 1 hingga 24\n",
        "plt.grid(True)\n",
        "plt.show()\n"
      ]
    },
    {
      "cell_type": "markdown",
      "metadata": {},
      "source": [
        "Berikut adalah tahapan analisis dalam poin-poin untuk visualisasi rata-rata jumlah peminjaman sepeda berdasarkan jam dalam satu hari : \n",
        "\n",
        "1. **Load Data**:\n",
        "   - Memuat data dari file CSV 'hour.csv' ke dalam dataframe `hourly_data` menggunakan fungsi `pd.read_csv()`.\n",
        "\n",
        "2. **Pengolahan Data**:\n",
        "   - Mengelompokkan data berdasarkan jam ('hr') menggunakan metode `groupby`.\n",
        "   - Menghitung rata-rata jumlah peminjaman sepeda untuk setiap jam menggunakan fungsi `mean()`.\n",
        "\n",
        "3. **Visualisasi Data**:\n",
        "   - Membuat plot garis untuk menampilkan rata-rata jumlah peminjaman sepeda per jam dalam satu hari.\n",
        "\n",
        "4. **Penyajian Visualisasi**:\n",
        "   - Mengatur label sumbu x agar menampilkan angka jam dari 1 hingga 24.\n",
        "   - Menambahkan grid untuk membantu pembaca dalam menafsirkan data.\n",
        "\n",
        "5. **Menampilkan Plot**:\n",
        "   - Menampilkan plot yang telah dibuat menggunakan fungsi `plt.show()`.\n",
        "   "
      ]
    },
    {
      "cell_type": "markdown",
      "metadata": {},
      "source": [
        "b. Kira-kira berapa jumlah peminjaman sepeda berdasarkan Hari dalam satu minggu?"
      ]
    },
    {
      "cell_type": "code",
      "execution_count": 1547,
      "metadata": {},
      "outputs": [
        {
          "data": {
            "image/png": "[encoded data removed]",
            "text/plain": [
              "<Figure size 1000x600 with 1 Axes>"
            ]
          },
          "metadata": {},
          "output_type": "display_data"
        }
      ],
      "source": [
        "# Kira-kira berapa jumlah peminjaman sepeda berdasarkan Hari dalam satu minggu?\n",
        "# Konversi kolom 'dteday' ke tipe datetime\n",
        "hourly_data['dteday'] = pd.to_datetime(hourly_data['dteday'])\n",
        "\n",
        "# Ambil informasi hari dari tanggal\n",
        "hourly_data['day_of_week'] = hourly_data['dteday'].dt.day_name()\n",
        "\n",
        "# Hitung rata-rata jumlah peminjaman sepeda untuk setiap hari dalam seminggu\n",
        "average_rentals_by_day = hourly_data.groupby('day_of_week')['cnt'].mean()\n",
        "\n",
        "# Urutkan berdasarkan urutan hari dalam seminggu\n",
        "days_of_week = ['Monday', 'Tuesday', 'Wednesday', 'Thursday', 'Friday', 'Saturday', 'Sunday']\n",
        "average_rentals_by_day = average_rentals_by_day.reindex(days_of_week)\n",
        "\n",
        "# Plot jumlah rata-rata peminjaman sepeda berdasarkan hari dalam satu minggu\n",
        "plt.figure(figsize=(10, 6))\n",
        "plt.bar(average_rentals_by_day.index, average_rentals_by_day.values, color='skyblue')\n",
        "plt.title('Rata-Rata Jumlah Peminjaman Sepeda per Hari dalam Satu Minggu', fontsize=14)\n",
        "plt.xlabel('Hari', fontsize=12)\n",
        "plt.ylabel('Rata-Rata Jumlah Peminjaman', fontsize=12)\n",
        "plt.xticks(rotation=45)  # Mengatur label sumbu x agar legible\n",
        "plt.grid(axis='y')  # Menambahkan grid hanya di sumbu y\n",
        "plt.show()"
      ]
    },
    {
      "cell_type": "markdown",
      "metadata": {},
      "source": [
        "Berikut adalah tahapan analisis dalam poin-poin untuk visualisasi rata-rata jumlah peminjaman sepeda berdasarkan hari dalam satu minggu : \n",
        "\n",
        "1. **Load Data**:\n",
        "   - Data jam peminjaman sepeda dimuat dari file CSV menggunakan Pandas.\n",
        "\n",
        "2. **Konversi Kolom Tanggal**:\n",
        "   - Kolom 'dteday' diubah menjadi tipe data datetime menggunakan metode `pd.to_datetime()`.\n",
        "\n",
        "3. **Ekstraksi Informasi Hari**:\n",
        "   - Dari tanggal, informasi hari dalam seminggu diekstraksi menggunakan metode `dt.day_name()` dan disimpan dalam kolom baru 'day_of_week'.\n",
        "\n",
        "4. **Hitung Rata-Rata Peminjaman Sepeda per Hari**:\n",
        "   - Menggunakan metode `groupby` pada kolom 'day_of_week' untuk menghitung rata-rata jumlah peminjaman sepeda untuk setiap hari dalam satu minggu.\n",
        "\n",
        "5. **Urutkan Data Berdasarkan Hari**:\n",
        "   - Data diurutkan berdasarkan urutan hari dalam seminggu ('Monday' sampai 'Sunday').\n",
        "\n",
        "6. **Plot Bar Plot**:\n",
        "   - Membuat bar plot menggunakan Matplotlib dengan sumbu x adalah hari dalam seminggu dan sumbu y adalah rata-rata jumlah peminjaman.\n",
        "\n",
        "7. **Penyajian Visualisasi**:\n",
        "   - Mengatur label sumbu x agar legible dengan merotasi 45 derajat.\n",
        "\n",
        "8. **Menampilkan Plot**:\n",
        "   - Menggunakan `plt.show()` untuk menampilkan plot kepada pengguna."
      ]
    },
    {
      "cell_type": "markdown",
      "metadata": {},
      "source": [
        "- Analisis RFM (Recency, Frequency, Monetary)"
      ]
    },
    {
      "cell_type": "code",
      "execution_count": 1548,
      "metadata": {},
      "outputs": [
        {
          "name": "stdout",
          "output_type": "stream",
          "text": [
            "         Recency  Frequency  Monetary RFM_Segment\n",
            "instant                                          \n",
            "1       730 days          1        16         141\n",
            "2       730 days          1        40         142\n",
            "3       730 days          1        32         141\n",
            "4       730 days          1        13         141\n",
            "5       730 days          1         1         141\n",
            "...          ...        ...       ...         ...\n",
            "17375     0 days          1       119         442\n",
            "17376     0 days          1        89         442\n",
            "17377     0 days          1        90         442\n",
            "17378     0 days          1        61         442\n",
            "17379     0 days          1        49         442\n",
            "\n",
            "[17379 rows x 4 columns]\n"
          ]
        }
      ],
      "source": [
        "# Load data\n",
        "hourly_data = pd.read_csv('data/hour.csv')\n",
        "\n",
        "# Hitung RFM\n",
        "current_date = pd.to_datetime(hourly_data['dteday']).max()\n",
        "\n",
        "# Recency (Ketepatan Waktu)\n",
        "recency = current_date - pd.to_datetime(hourly_data.groupby('instant')['dteday'].max())\n",
        "\n",
        "# Frequency (Frekuensi)\n",
        "frequency = hourly_data.groupby('instant').size()\n",
        "\n",
        "# Monetary (Moneter)\n",
        "monetary = hourly_data.groupby('instant')['cnt'].sum()\n",
        "\n",
        "# Gabungkan RFM menjadi satu dataframe\n",
        "rfm_df = pd.DataFrame({'Recency': recency, 'Frequency': frequency, 'Monetary': monetary})\n",
        "\n",
        "# Kelompokkan pelanggan ke dalam segmen RFM\n",
        "def rfm_segment(row):\n",
        "    if row['Recency'] <= recency.quantile(0.25):\n",
        "        recency_score = 4\n",
        "    elif row['Recency'] <= recency.quantile(0.5):\n",
        "        recency_score = 3\n",
        "    elif row['Recency'] <= recency.quantile(0.75):\n",
        "        recency_score = 2\n",
        "    else:\n",
        "        recency_score = 1\n",
        "        \n",
        "    if row['Frequency'] >= frequency.quantile(0.75):\n",
        "        frequency_score = 4\n",
        "    elif row['Frequency'] >= frequency.quantile(0.5):\n",
        "        frequency_score = 3\n",
        "    elif row['Frequency'] >= frequency.quantile(0.25):\n",
        "        frequency_score = 2\n",
        "    else:\n",
        "        frequency_score = 1\n",
        "        \n",
        "    if row['Monetary'] >= monetary.quantile(0.75):\n",
        "        monetary_score = 4\n",
        "    elif row['Monetary'] >= monetary.quantile(0.5):\n",
        "        monetary_score = 3\n",
        "    elif row['Monetary'] >= monetary.quantile(0.25):\n",
        "        monetary_score = 2\n",
        "    else:\n",
        "        monetary_score = 1\n",
        "        \n",
        "    return str(recency_score) + str(frequency_score) + str(monetary_score)\n",
        "\n",
        "rfm_df['RFM_Segment'] = rfm_df.apply(rfm_segment, axis=1)\n",
        "\n",
        "# Tampilkan hasil segmentasi\n",
        "print(rfm_df)\n"
      ]
    },
    {
      "cell_type": "markdown",
      "metadata": {},
      "source": [
        "1. **Load Data**:\n",
        "   - Data jam peminjaman sepeda dimuat dari file CSV menggunakan Pandas.\n",
        "\n",
        "2. **Hitung RFM**:\n",
        "   - **Recency (Ketepatan Waktu)**:\n",
        "     - Tanggal terbaru dalam dataset diidentifikasi menggunakan `pd.to_datetime()` dan disimpan dalam `current_date`.\n",
        "\n",
        "   - **Frequency (Frekuensi)**:\n",
        "     - Jumlah entri (jam) per pengguna dihitung menggunakan `groupby` dan `size()`.\n",
        "\n",
        "   - **Monetary (Moneter)**:\n",
        "     - Jumlah peminjaman sepeda (cnt) per pengguna dihitung dengan menjumlahkan menggunakan `groupby` dan `sum()`.\n",
        "\n",
        "3. **Gabungkan RFM menjadi Satu DataFrame**:\n",
        "   - Ketiga metrik RFM (Recency, Frequency, Monetary) digabungkan menjadi satu dalam DataFrame `rfm_df`.\n",
        "\n",
        "4. **Kelompokkan Pelanggan ke dalam Segmen RFM**:\n",
        "   - Difungsikan `rfm_segment()` untuk mengelompokkan pelanggan ke dalam segmen RFM.\n",
        "\n",
        "5. **Tampilkan Hasil Segmentasi**:\n",
        "   - DataFrame `rfm_df` yang telah diperbarui dengan segmen RFM ditampilkan dengan menggunakan `print()`."
      ]
    },
    {
      "cell_type": "code",
      "execution_count": 1549,
      "metadata": {},
      "outputs": [
        {
          "data": {
            "image/png": "[encoded data removed]",
            "text/plain": [
              "<Figure size 1800x600 with 3 Axes>"
            ]
          },
          "metadata": {},
          "output_type": "display_data"
        }
      ],
      "source": [
        "# Convert timedelta to days\n",
        "recency_days = rfm_df['Recency'].dt.days\n",
        "\n",
        "# Set up the figure and axes\n",
        "fig, axes = plt.subplots(nrows=1, ncols=3, figsize=(18, 6))\n",
        "\n",
        "# Plot histogram untuk Recency\n",
        "axes[0].hist(recency_days, bins=20, color='skyblue', edgecolor='black')\n",
        "axes[0].set_title('Distribusi Recency')\n",
        "axes[0].set_xlabel('Recency (Days)')\n",
        "axes[0].set_ylabel('Jumlah Pelanggan')\n",
        "axes[0].grid(axis='y')\n",
        "\n",
        "# Plot histogram untuk Frequency\n",
        "axes[1].hist(rfm_df['Frequency'], bins=20, color='skyblue', edgecolor='black')\n",
        "axes[1].set_title('Distribusi Frequency')\n",
        "axes[1].set_xlabel('Frequency Score')\n",
        "axes[1].set_ylabel('Jumlah Pelanggan')\n",
        "axes[1].grid(axis='y')\n",
        "\n",
        "# Plot histogram untuk Monetary\n",
        "axes[2].hist(rfm_df['Monetary'], bins=20, color='skyblue', edgecolor='black')\n",
        "axes[2].set_title('Distribusi Monetary')\n",
        "axes[2].set_xlabel('Monetary Score')\n",
        "axes[2].set_ylabel('Jumlah Pelanggan')\n",
        "axes[2].grid(axis='y')\n",
        "\n",
        "plt.tight_layout()  # Mengatur tata letak agar rapi\n",
        "plt.show()\n"
      ]
    },
    {
      "cell_type": "markdown",
      "metadata": {},
      "source": [
        "##### - Proses dan penjelasan hasil dari Segmentasi RFM diatas sebagai berikut :"
      ]
    },
    {
      "cell_type": "markdown",
      "metadata": {},
      "source": [
        "1. Membaca File CSV\n",
        "2. Hitung RFM :\n",
        "- Recency (Dihitung dengan mengambil tanggal terbaru dalam dataset dan mengurangkan tanggal transaksi terakhir dari setiap data)\n",
        "- Frequency (ihitung dengan menghitung jumlah entri (jam) per pengguna)\n",
        "- Monetary (Dihitung dengan menjumlahkan jumlah peminjaman sepeda (cnt) per pengguna)\n",
        "3. Ketiga metrik RFM dijadikan satu dalam dataframe 'rfm_df'\n",
        "4. Menampilkan hasil Segmentasi "
      ]
    },
    {
      "cell_type": "markdown",
      "metadata": {
        "id": "_WeHlCeX8DC2"
      },
      "source": [
        "## Conclusion"
      ]
    },
    {
      "cell_type": "markdown",
      "metadata": {
        "id": "ZTcyR48Y8DC2"
      },
      "source": [
        "- Conclution pertanyaan 1 : Berdasarkan analisis visualisasi, dapat dilihat bahwa kondisi cuaca mempengaruhi pola peminjaman sepeda. Peminjaman sepeda cenderung lebih rendah pada hari-hari dengan cuaca buruk seperti hujan atau salju (weathersit=3 dan 4) dibandingkan dengan hari-hari dengan cuaca cerah atau berawan (weathersit=1 dan 2).\n",
        "- Conclution pertanyaan 2 : Dapat diprediksi bahwa jumlah peminjaman sepeda cenderung meningkat selama jam-jam sibuk di hari kerja, seperti pagi hari saat orang pergi ke tempat kerja atau sore hari saat mereka pulang. Pada akhir pekan, terutama pada hari Sabtu"
      ]
    }
  ],
  "metadata": {
    "colab": {
      "provenance": []
    },
    "kernelspec": {
      "display_name": "Python 3",
      "language": "python",
      "name": "python3"
    },
    "language_info": {
      "codemirror_mode": {
        "name": "ipython",
        "version": 3
      },
      "file_extension": ".py",
      "mimetype": "text/x-python",
      "name": "python",
      "nbconvert_exporter": "python",
      "pygments_lexer": "ipython3",
      "version": "3.12.0"
    },
    "orig_nbformat": 4,
    "vscode": {
      "interpreter": {
        "hash": "972b3bf27e332e87b5379f2791f6ef9dfc79c71018c370b0d7423235e20fe4d7"
      }
    }
  },
  "nbformat": 4,
  "nbformat_minor": 0
}
